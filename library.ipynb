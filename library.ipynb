{
  "nbformat": 4,
  "nbformat_minor": 0,
  "metadata": {
    "colab": {
      "provenance": []
    },
    "kernelspec": {
      "name": "python3",
      "display_name": "Python 3"
    },
    "language_info": {
      "name": "python"
    }
  },
  "cells": [
    {
      "cell_type": "code",
      "execution_count": 1,
      "metadata": {
        "colab": {
          "base_uri": "https://localhost:8080/"
        },
        "id": "MYw3ECKvJSIg",
        "outputId": "de9a1485-80dc-4d79-b346-78b07f30872d"
      },
      "outputs": [
        {
          "output_type": "stream",
          "name": "stdout",
          "text": [
            "\n",
            "Library Management System\n",
            "1. Display all books\n",
            "2. Add a book\n",
            "3. Remove a book\n",
            "4. Search for a book\n",
            "5. Exit\n",
            "Enter your choice: 5\n",
            "Exiting...\n"
          ]
        }
      ],
      "source": [
        "class Book:\n",
        "    def __init__(self, title, author, isbn):\n",
        "        self.title = title\n",
        "        self.author = author\n",
        "        self.isbn = isbn\n",
        "        self.available = True\n",
        "\n",
        "    def __str__(self):\n",
        "        return f\"{self.title} by {self.author} (ISBN: {self.isbn})\"\n",
        "\n",
        "\n",
        "class Library:\n",
        "    def __init__(self):\n",
        "        self.books = []\n",
        "\n",
        "    def add_book(self, book):\n",
        "        self.books.append(book)\n",
        "\n",
        "    def remove_book(self, isbn):\n",
        "        for book in self.books:\n",
        "            if book.isbn == isbn:\n",
        "                self.books.remove(book)\n",
        "                return True\n",
        "        return False\n",
        "\n",
        "    def display_books(self):\n",
        "        if not self.books:\n",
        "            print(\"No books in the library.\")\n",
        "        else:\n",
        "            print(\"Books available in the library:\")\n",
        "            for book in self.books:\n",
        "                print(book)\n",
        "\n",
        "    def find_book(self, title):\n",
        "        for book in self.books:\n",
        "            if book.title.lower() == title.lower():\n",
        "                return book\n",
        "        return None\n",
        "\n",
        "\n",
        "def main():\n",
        "    library = Library()\n",
        "\n",
        "    # Adding some initial books\n",
        "    library.add_book(Book(\"1984\", \"George Orwell\", \"978-0451524935\"))\n",
        "    library.add_book(Book(\"To Kill a Mockingbird\", \"Harper Lee\", \"978-0061120084\"))\n",
        "    library.add_book(Book(\"The Great Gatsby\", \"F. Scott Fitzgerald\", \"978-0743273565\"))\n",
        "\n",
        "    while True:\n",
        "        print(\"\\nLibrary Management System\")\n",
        "        print(\"1. Display all books\")\n",
        "        print(\"2. Add a book\")\n",
        "        print(\"3. Remove a book\")\n",
        "        print(\"4. Search for a book\")\n",
        "        print(\"5. Exit\")\n",
        "\n",
        "        choice = input(\"Enter your choice: \")\n",
        "\n",
        "        if choice == \"1\":\n",
        "            library.display_books()\n",
        "        elif choice == \"2\":\n",
        "            title = input(\"Enter the title of the book: \")\n",
        "            author = input(\"Enter the author of the book: \")\n",
        "            isbn = input(\"Enter the ISBN of the book: \")\n",
        "            library.add_book(Book(title, author, isbn))\n",
        "            print(\"Book added successfully.\")\n",
        "        elif choice == \"3\":\n",
        "            isbn = input(\"Enter the ISBN of the book to remove: \")\n",
        "            if library.remove_book(isbn):\n",
        "                print(\"Book removed successfully.\")\n",
        "            else:\n",
        "                print(\"Book not found.\")\n",
        "        elif choice == \"4\":\n",
        "            title = input(\"Enter the title of the book to search: \")\n",
        "            book = library.find_book(title)\n",
        "            if book:\n",
        "                print(\"Book found:\")\n",
        "                print(book)\n",
        "            else:\n",
        "                print(\"Book not found.\")\n",
        "        elif choice == \"5\":\n",
        "            print(\"Exiting...\")\n",
        "            break\n",
        "        else:\n",
        "            print(\"Invalid choice. Please enter a number from 1 to 5.\")\n",
        "\n",
        "\n",
        "if __name__ == \"__main__\":\n",
        "    main()\n"
      ]
    }
  ]
}