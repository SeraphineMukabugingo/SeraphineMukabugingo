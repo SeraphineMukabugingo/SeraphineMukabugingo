{
  "cells": [
    {
      "cell_type": "code",
      "execution_count": null,
      "metadata": {
        "colab": {
          "base_uri": "https://localhost:8080/"
        },
        "id": "AMJcUAhChJki",
        "outputId": "0f1ffceb-52c5-4582-a7b0-e689875f8aea"
      },
      "outputs": [
        {
          "name": "stdout",
          "output_type": "stream",
          "text": [
            "Distance: 5.0\n"
          ]
        }
      ],
      "source": [
        "#hw1,partA,Number1\n",
        "import math\n",
        "\n",
        "def distance(x1, y1, x2, y2):\n",
        "    return math.sqrt((x2 - x1)**2 + (y2 - y1)**2)\n",
        "\n",
        "# Example\n",
        "x1 = 1\n",
        "y1 = 2\n",
        "x2 = 4\n",
        "y2 = 6\n",
        "print(\"Distance:\", distance(x1, y1, x2, y2))\n"
      ]
    },
    {
      "cell_type": "code",
      "execution_count": null,
      "metadata": {
        "colab": {
          "base_uri": "https://localhost:8080/"
        },
        "id": "SVRtNBDb_GFw",
        "outputId": "f520edae-7b2c-48f6-8575-6be6f2e0f9e2"
      },
      "outputs": [
        {
          "name": "stdout",
          "output_type": "stream",
          "text": [
            "Do circles intersect? True\n"
          ]
        }
      ],
      "source": [
        "#hw1,partA,Number2\n",
        "import math\n",
        "\n",
        "def distance(x1, y1, x2, y2):\n",
        "    return math.sqrt((x2 - x1)**2 + (y2 - y1)**2)\n",
        "\n",
        "def circlesIntersect(x1, y1, r1, x2, y2, r2):\n",
        "    dist_centers = distance(x1, y1, x2, y2)\n",
        "    if dist_centers <= r1 + r2:\n",
        "        return True\n",
        "    else:\n",
        "        return False\n",
        "\n",
        "# Example\n",
        "x1 = 0\n",
        "y1 = 0\n",
        "r1 = 3\n",
        "x2 = 4\n",
        "y2 = 0\n",
        "r2 = 3\n",
        "print(\"Do circles intersect?\", circlesIntersect(x1, y1, r1, x2, y2, r2))\n"
      ]
    },
    {
      "cell_type": "code",
      "execution_count": null,
      "metadata": {
        "colab": {
          "base_uri": "https://localhost:8080/"
        },
        "id": "u7ynEAlUIKGF",
        "outputId": "57d61e97-6073-462d-e2a6-fe7f755bb977"
      },
      "outputs": [
        {
          "name": "stdout",
          "output_type": "stream",
          "text": [
            "3\n",
            "4\n",
            "5\n",
            "5\n"
          ]
        }
      ],
      "source": [
        "#hw1,partA,Number3\n",
        "def getInRange(x, bound1, bound2):\n",
        "    lower_bound = min(bound1, bound2)\n",
        "    upper_bound = max(bound1, bound2)\n",
        "\n",
        "    if x < lower_bound:\n",
        "        return lower_bound\n",
        "    elif x > upper_bound:\n",
        "        return upper_bound\n",
        "    else:\n",
        "        return x\n",
        "\n",
        "# Example\n",
        "print(getInRange(1, 3, 5))\n",
        "print(getInRange(4, 3, 5))\n",
        "print(getInRange(6, 3, 5))\n",
        "print(getInRange(6, 5, 3))\n"
      ]
    },
    {
      "cell_type": "code",
      "execution_count": null,
      "metadata": {
        "colab": {
          "base_uri": "https://localhost:8080/"
        },
        "id": "ZCVdrrmVvv87",
        "outputId": "7ca4f83d-bb94-45cc-80e1-81c976f5e268"
      },
      "outputs": [
        {
          "name": "stdout",
          "output_type": "stream",
          "text": [
            "Number of cartons required: 3\n"
          ]
        }
      ],
      "source": [
        "#hw1,partA,Number4\n",
        "def eggCartons(eggs):\n",
        "\n",
        "    cartons = eggs // 12\n",
        "    if eggs % 12 != 0:\n",
        "        cartons += 1\n",
        "    return cartons\n",
        "\n",
        "# Example\n",
        "num_eggs = 25\n",
        "print(\"Number of cartons required:\", eggCartons(num_eggs))\n",
        "\n"
      ]
    },
    {
      "cell_type": "code",
      "execution_count": null,
      "metadata": {
        "colab": {
          "base_uri": "https://localhost:8080/"
        },
        "id": "sm24amT2wyje",
        "outputId": "d993a30e-e579-4eb5-c695-e88a2bc5fad6"
      },
      "outputs": [
        {
          "name": "stdout",
          "output_type": "stream",
          "text": [
            "Value at row 3 and column 1 is: 3\n"
          ]
        }
      ],
      "source": [
        "#hw1,partA,Number5\n",
        "import math\n",
        "\n",
        "def pascalsTriangleValue(row, col):\n",
        "    if row < 0 or col < 0 or col > row:\n",
        "        return None\n",
        "    value = math.factorial(row) // (math.factorial(col) * math.factorial(row - col))\n",
        "\n",
        "    return value\n",
        "\n",
        "# Example\n",
        "row = 3\n",
        "col = 1\n",
        "print(\"Value at row\", row, \"and column\", col, \"is:\", pascalsTriangleValue(row, col))\n"
      ]
    },
    {
      "cell_type": "code",
      "execution_count": null,
      "metadata": {
        "id": "-JCqEHqNzEAQ"
      },
      "outputs": [],
      "source": [
        "#hw1,partA,Number6\n",
        "def getKthDigit(n, k):\n",
        "    n = abs(n)\n",
        "    n_str = str(n)\n",
        "    if k >= len(n_str):\n",
        "        return 0\n",
        "    return int(n_str[-(k + 1)])\n",
        "#Example\n",
        "print(getKthDigit(789, 0))\n",
        "print(getKthDigit(789, 1))\n",
        "print(getKthDigit(789, 2))\n",
        "print(getKthDigit(789, 3))\n",
        "print(getKthDigit(-789, 0))\n"
      ]
    },
    {
      "cell_type": "code",
      "execution_count": null,
      "metadata": {
        "colab": {
          "base_uri": "https://localhost:8080/"
        },
        "id": "Y2jUKnOF1sT2",
        "outputId": "81de92d2-63bb-488f-c146-6ed807bc0a0a"
      },
      "outputs": [
        {
          "name": "stdout",
          "output_type": "stream",
          "text": [
            "168\n",
            "418\n",
            "461\n",
            "4681\n"
          ]
        }
      ],
      "source": [
        "#hw1,partA,Number7\n",
        "def setKthDigit(n, k, d):\n",
        "    if k < 0:\n",
        "        return n\n",
        "    if n < 0:\n",
        "        sign = -1\n",
        "    else:\n",
        "        sign = 1\n",
        "\n",
        "    n = abs(n)\n",
        "    digits = [int(x) for x in str(n)]\n",
        "    if k >= len(digits):\n",
        "        digits.extend([0] * (k - len(digits) + 1))\n",
        "\n",
        "    digits[k] = d\n",
        "    result = int(''.join(map(str, digits)))\n",
        "    return sign * result\n",
        "\n",
        "# Test cases\n",
        "print(setKthDigit(468, 0, 1))\n",
        "print(setKthDigit(468, 1, 1))\n",
        "print(setKthDigit(468, 2, 1))\n",
        "print(setKthDigit(468, 3, 1))\n"
      ]
    },
    {
      "cell_type": "code",
      "execution_count": null,
      "metadata": {
        "colab": {
          "base_uri": "https://localhost:8080/"
        },
        "id": "EsJmGXdn4U9d",
        "outputId": "0bed1b87-6660-442a-9a4b-c37728bae4a9"
      },
      "outputs": [
        {
          "name": "stdout",
          "output_type": "stream",
          "text": [
            "13\n",
            "13\n",
            "13\n",
            "13\n",
            "13\n"
          ]
        }
      ],
      "source": [
        "#hw1,partB,Number9\n",
        "\n",
        "def nearestOdd(n):\n",
        "    if isinstance(n, int):\n",
        "        return n if n % 2 != 0 else n - 1\n",
        "    elif isinstance(n, float):\n",
        "        nearest_int = round(n)\n",
        "        if nearest_int % 2 == 0:\n",
        "            return nearest_int - 1\n",
        "        else:\n",
        "            return nearest_int\n",
        "    else:\n",
        "        raise TypeError(\"Input must be int or float\")\n",
        "\n",
        "# Example\n",
        "print(nearestOdd(13))\n",
        "print(nearestOdd(13.0))\n",
        "print(nearestOdd(13.5))\n",
        "print(nearestOdd(14.2))\n",
        "print(nearestOdd(14))\n",
        "\n",
        "\n",
        "\n"
      ]
    },
    {
      "cell_type": "code",
      "execution_count": 11,
      "metadata": {
        "colab": {
          "base_uri": "https://localhost:8080/"
        },
        "id": "o4BhR4vb7Liv",
        "outputId": "6afd6cb0-d805-41df-8e6a-842d4c67ef2d"
      },
      "outputs": [
        {
          "name": "stdout",
          "output_type": "stream",
          "text": [
            "6\n"
          ]
        }
      ],
      "source": [
        "#hw1,partB,Number10\n",
        "def numberOfPoolBalls(rows):\n",
        "    total_pool_balls = (rows * (rows + 1)) // 2\n",
        "    return total_pool_balls\n",
        "\n",
        "# Example\n",
        "print(numberOfPoolBalls(3))\n",
        "\n"
      ]
    },
    {
      "cell_type": "code",
      "execution_count": 12,
      "metadata": {
        "colab": {
          "base_uri": "https://localhost:8080/"
        },
        "id": "ntKJ6sfA92Rc",
        "outputId": "9fc12c97-7f32-461d-daab-d2a856337eac"
      },
      "outputs": [
        {
          "name": "stdout",
          "output_type": "stream",
          "text": [
            "3\n",
            "4\n"
          ]
        }
      ],
      "source": [
        "#hw1,partB,Number11\n",
        "def numberOfPoolBallRows(balls):\n",
        "    left = 0\n",
        "    right = balls\n",
        "    while left <= right:\n",
        "        mid = (left + right) // 2\n",
        "        total_balls_in_mid_rows = (mid * (mid + 1)) // 2\n",
        "\n",
        "        if total_balls_in_mid_rows == balls:\n",
        "            return mid\n",
        "        elif total_balls_in_mid_rows < balls:\n",
        "            left = mid + 1\n",
        "        else:\n",
        "            right = mid - 1\n",
        "\n",
        "    return left\n",
        "\n",
        "# Example\n",
        "print(numberOfPoolBallRows(6))\n",
        "print(numberOfPoolBallRows(7))\n"
      ]
    },
    {
      "cell_type": "code",
      "execution_count": 14,
      "metadata": {
        "id": "XYOh1nSb_sYY"
      },
      "outputs": [],
      "source": [
        "#hw1,partB,Number12\n",
        "def colorBlender(rgb1, rgb2, midpoints, n):\n",
        "    red1, green1, blue1 = rgb1 // 1000000, (rgb1 // 1000) % 1000, rgb1 % 1000\n",
        "    red2, green2, blue2 = rgb2 // 1000000, (rgb2 // 1000) % 1000, rgb2 % 1000\n",
        "    step_red = (red2 - red1) / (midpoints + 1)\n",
        "    step_green = (green2 - green1) / (midpoints + 1)\n",
        "    step_blue = (blue2 - blue1) / (midpoints + 1)\n",
        "    if n < 0 or n > midpoints + 1:\n",
        "        return None\n",
        "    new_red = int(red1 + step_red * n)\n",
        "    new_green = int(green1 + step_green * n)\n",
        "    new_blue = int(blue1 + step_blue * n)\n",
        "    new_rgb = new_red * 1000000 + new_green * 1000 + new_blue\n",
        "    return new_rgb\n"
      ]
    }
  ],
  "metadata": {
    "colab": {
      "provenance": []
    },
    "kernelspec": {
      "display_name": "Python 3",
      "name": "python3"
    },
    "language_info": {
      "name": "python"
    }
  },
  "nbformat": 4,
  "nbformat_minor": 0
}
