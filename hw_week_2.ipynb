{
  "cells": [
    {
      "cell_type": "markdown",
      "metadata": {
        "id": "p0-3vAre-3Mv"
      },
      "source": [
        "**VERSION A**"
      ]
    },
    {
      "cell_type": "markdown",
      "metadata": {
        "id": "2z72vZ0I-rID"
      },
      "source": [
        "question number1"
      ]
    },
    {
      "cell_type": "code",
      "execution_count": null,
      "metadata": {
        "colab": {
          "base_uri": "https://localhost:8080/"
        },
        "id": "-Uep429J2kLJ",
        "outputId": "0453b5b9-4c54-4c1f-a489-04000deb1261"
      },
      "outputs": [
        {
          "name": "stdout",
          "output_type": "stream",
          "text": [
            "4.5\n",
            "None\n",
            "32\n",
            "88\n"
          ]
        }
      ],
      "source": [
        "import math\n",
        "def ct1(x):\n",
        "  if (type(x) != int):\n",
        "    x = 2 * x\n",
        "    return math.ceil(2 * float(str(x)))\n",
        "  x = abs(x)\n",
        "  if (x < 0):\n",
        "    return '0'\n",
        "  elif (x > 10):\n",
        "    return x/10\n",
        "print(ct1(-45))\n",
        "print(ct1(6))\n",
        "print(ct1(7.8))\n",
        "print(ct1('4'))\n"
      ]
    },
    {
      "cell_type": "markdown",
      "metadata": {
        "id": "3Mv-Jcd57Jwa"
      },
      "source": [
        "Question **number2**"
      ]
    },
    {
      "cell_type": "code",
      "execution_count": null,
      "metadata": {
        "colab": {
          "base_uri": "https://localhost:8080/"
        },
        "id": "kGgtXEht9NvR",
        "outputId": "e399fe00-5423-42e2-d5f8-5f1e48d70b1d"
      },
      "outputs": [
        {
          "name": "stdout",
          "output_type": "stream",
          "text": [
            "f(15)\n",
            "f(165)\n",
            "f(190)\n",
            "f(20)\n",
            "400\n"
          ]
        }
      ],
      "source": [
        "def f(x):\n",
        "  print(f'f({x})') # Don't miss this line\n",
        "  return 10*x if (x < 25) else 10+x\n",
        "def ct2(x):\n",
        "  if (x % 5 < x % 10):\n",
        "    x += f(x + f(x))\n",
        "  return f(x)\n",
        "print(ct2(15) + ct2(20))\n",
        "# Hint: this prints 5 lines"
      ]
    },
    {
      "cell_type": "markdown",
      "metadata": {
        "id": "3VunIbP_-IfR"
      },
      "source": [
        "**Question number3**"
      ]
    },
    {
      "cell_type": "markdown",
      "metadata": {
        "id": "aNdh8lSqER7-"
      },
      "source": [
        "Free Response 1: isSmallFair(n)\n",
        "We will say that a value n is \"fair\" if it is an integer and it has the same number of even digits as odd digits\n",
        "(ignoring leading 0's). A \"small fair\" number is a fair number with exactly 4 digits.\n",
        "For example, 1083, 1081, and -1092 are each small fair numbers because each have two odds and two evens.\n",
        "With this in mind, and without using strings or loops, write the function isSmallFair(n) that takes a value n, that\n",
        "may or may not be an integer, and returns True if n is a small fair number, and False otherwise. Do not crash\n",
        "if n is not an integer! Again, do not use strings or loops here.\n",
        "def testIsSmallFair():\n",
        "assert(isSmallFair(1001) == True)\n",
        "assert(isSmallFair(-1083) == True)\n",
        "assert(isSmallFair(1112) == False)\n",
        "assert(isSmallFair(83) == False)\n",
        "assert(isSmallFair('axolotl') == False)"
      ]
    },
    {
      "cell_type": "code",
      "execution_count": null,
      "metadata": {
        "id": "hZpXn8-Z-Pl7"
      },
      "outputs": [],
      "source": [
        "def isSmallFair(n):\n",
        "    if not isinstance(n, int):  # Check if n is an integer\n",
        "        return False\n",
        "\n",
        "    n = abs(n)  # Convert negative numbers to positive\n",
        "\n",
        "    # Initialize counts of even and odd digits\n",
        "    even_count = 0\n",
        "    odd_count = 0\n",
        "\n",
        "    while n > 0:  # Iterate through the digits of n\n",
        "        digit = n % 10  # Extract the last digit\n",
        "        if digit % 2 == 0:  # Check if the digit is even\n",
        "            even_count += 1\n",
        "        else:\n",
        "            odd_count += 1\n",
        "        n //= 10  # Move to the next digit\n",
        "\n",
        "    # Check if the counts of even and odd digits are equal to 2 (for a 4-digit number)\n",
        "    return even_count == odd_count == 2\n",
        "\n",
        "# Test cases\n",
        "def testIsSmallFair():\n",
        "    assert(isSmallFair(1001) == True)\n",
        "    assert(isSmallFair(-1083) == True)\n",
        "    assert(isSmallFair(1112) == False)\n",
        "    assert(isSmallFair(83) == False)\n",
        "    assert(isSmallFair('axolotl') == False)\n",
        "\n",
        "# Run the test cases\n",
        "testIsSmallFair()\n"
      ]
    },
    {
      "cell_type": "markdown",
      "metadata": {
        "id": "t0Jd9WO3GZvh"
      },
      "source": [
        "VERSION B\n",
        "Question number 1"
      ]
    },
    {
      "cell_type": "code",
      "execution_count": null,
      "metadata": {
        "colab": {
          "base_uri": "https://localhost:8080/"
        },
        "id": "tKNmOMvaGhd2",
        "outputId": "de766789-e046-46b9-96c9-db7f2df494b5"
      },
      "outputs": [
        {
          "name": "stdout",
          "output_type": "stream",
          "text": [
            "None\n",
            "36\n",
            "35\n",
            "66\n"
          ]
        }
      ],
      "source": [
        "import math\n",
        "def ct1(x):\n",
        "  if (type(x) != int):\n",
        "    x = 2*x\n",
        "    return math.ceil(2 * float(str(x)))\n",
        "  x = abs(x)\n",
        "  if (x < 0):\n",
        "    return '0'\n",
        "  elif (x < 10):\n",
        "    return x**2\n",
        "print(ct1(-45))\n",
        "print(ct1(6))\n",
        "print(ct1(8.7))\n",
        "print(ct1('3'))"
      ]
    },
    {
      "cell_type": "markdown",
      "metadata": {
        "id": "IPjhgGRhHwBM"
      },
      "source": [
        "Question number 2"
      ]
    },
    {
      "cell_type": "code",
      "execution_count": null,
      "metadata": {
        "colab": {
          "base_uri": "https://localhost:8080/"
        },
        "id": "bL-01usHICUv",
        "outputId": "d50bbb75-0151-4bc8-c787-98c26751ac97"
      },
      "outputs": [
        {
          "name": "stdout",
          "output_type": "stream",
          "text": [
            "f(15)\n",
            "f(50)\n",
            "f(115)\n",
            "f(20)\n",
            "270\n"
          ]
        }
      ],
      "source": [
        "def f(x):\n",
        "  print(f'f({x})') # Don't miss this line\n",
        "  return 20+x if (x < 25) else 2*x\n",
        "def ct2(x):\n",
        "  if (x % 5 < x % 10):\n",
        "    x += f(x + f(x))\n",
        "  return f(x)\n",
        "print(ct2(15) + ct2(20))\n",
        "# Hint: this prints 5 lines"
      ]
    },
    {
      "cell_type": "markdown",
      "metadata": {
        "id": "9oFos7NkI7o3"
      },
      "source": [
        "Question number 3\n"
      ]
    },
    {
      "cell_type": "markdown",
      "metadata": {
        "id": "rDXbuIknJF_L"
      },
      "source": [
        "Free Response 1: isSmallWobble(n)\n",
        "We will say that a value n is a \"wobble\" if it is an integer with more odd digits than even digits, but at least one\n",
        "of each. (Ignore leading 0's). A \"small wobble\" number is a wobble number with exactly 4 digits (thus it must\n",
        "have 1 even and 3 odd digits).\n",
        "For example, 2133, 1091, and -5792 are small wobble numbers because they have 1 even and 3 odd digits.\n",
        "With this in mind, and without using strings or loops, write the function isSmallWobble(n) that takes a value n,\n",
        "that may or may not be an integer, and returns True if n is a small wobble number, and False otherwise. Do\n",
        "not crash if n is not an integer! Again, do not use strings or loops here.\n",
        "def testIsSmallWobble():\n",
        "assert(isSmallWobble(1121) == True)\n",
        "assert(isSmallWobble(-1091) == True)\n",
        "assert(isSmallWobble(1681) == False)\n",
        "assert(isSmallWobble(83) == False)\n",
        "assert(isSmallWobble('axolotl') == False)"
      ]
    },
    {
      "cell_type": "code",
      "execution_count": null,
      "metadata": {
        "colab": {
          "background_save": true
        },
        "id": "J3yyBrBeJK1g"
      },
      "outputs": [],
      "source": [
        "def isSmallWobble(n):\n",
        "    if not isinstance(n, int):\n",
        "        return False\n",
        "\n",
        "    n = abs(n)\n",
        "\n",
        "    # Counting the number of odd and even digits\n",
        "    odd_count = 0\n",
        "    even_count = 0\n",
        "\n",
        "    # Extracting digits without using strings or loops\n",
        "    while n > 0:\n",
        "        digit = n % 10\n",
        "        if digit % 2 == 0:\n",
        "            even_count += 1\n",
        "        else:\n",
        "            odd_count += 1\n",
        "        n //= 10\n",
        "\n",
        "    # Checking if it's a small wobble number\n",
        "    return odd_count == 3 and even_count == 1 and odd_count + even_count == 4\n",
        "\n",
        "# Test cases\n",
        "def testIsSmallWobble():\n",
        "    assert(isSmallWobble(1121) == True)\n",
        "    assert(isSmallWobble(-1091) == True)\n",
        "    assert(isSmallWobble(1681) == False)\n",
        "    assert(isSmallWobble(83) == False)\n",
        "    assert(isSmallWobble('axolotl') == False)\n",
        "\n",
        "# Running the test cases\n",
        "testIsSmallWobble()\n"
      ]
    },
    {
      "cell_type": "markdown",
      "metadata": {
        "id": "DMr1ADkhzmZ3"
      },
      "source": [
        "## week3 hw3 part A\n",
        "## Question number 1\n",
        "rotateString(s, k)\n",
        "Write the function rotateString(s, k) that takes a string s and a possibly-negative integer k. If k is non-negative, the function returns the string s rotated k places to the left. If k is negative, the function returns the string s rotated |k| places to the right. So, for example:\n",
        "assert(rotateString('abcd',  1) == 'bcda')\n",
        "assert(rotateString('abcd', -1) == 'dabc')\n"
      ]
    },
    {
      "cell_type": "code",
      "execution_count": 1,
      "metadata": {
        "id": "FQEQFaT50H71"
      },
      "outputs": [],
      "source": [
        "def rotateString(s, k):\n",
        "    # Calculate the effective rotation amount\n",
        "    k %= len(s)\n",
        "\n",
        "    # Rotate the string to the left if k is non-negative\n",
        "    if k >= 0:\n",
        "        return s[k:] + s[:k]\n",
        "    # Rotate the string to the right if k is negative\n",
        "    else:\n",
        "        return s[k:] + s[:k]\n",
        "\n",
        "# Test cases\n",
        "assert(rotateString('abcd',  1) == 'bcda')\n",
        "assert(rotateString('abcd', -1) == 'dabc')\n"
      ]
    },
    {
      "cell_type": "markdown",
      "metadata": {
        "id": "B4L2xOP31Ns3"
      },
      "source": [
        "## Question number 2\n",
        "applyCaesarCipher(message, shift) [5 pts]\n",
        "A Caesar Cipher is a simple cipher that works by shifting each letter in the given message by a certain number. For example, if we shift the message \"We Attack At Dawn\" by 1 letter, it becomes \"Xf Buubdl Bu Ebxo\".\n",
        "\n",
        "Write the function applyCaesarCipher(message, shift) which shifts the given message by shift letters. You are guaranteed that message is a string, and that shift is an integer between -25 and 25. Capital letters should stay capital and lowercase letters should stay lowercase, and non-letter characters should not be changed. Note that \"Z\" wraps around to \"A\". So, for example:\n",
        "assert(applyCaesarCipher(\"We Attack At Dawn\", 1) == \"Xf Buubdl Bu Ebxo\")\n",
        "assert(applyCaesarCipher(\"zodiac\", -2) == \"xmbgya\")"
      ]
    },
    {
      "cell_type": "code",
      "execution_count": 2,
      "metadata": {
        "id": "ZJADdADX2BJx"
      },
      "outputs": [],
      "source": [
        "def applyCaesarCipher(message, shift):\n",
        "    # Define a helper function to shift a single character\n",
        "    def shift_char(char, shift):\n",
        "        if char.isalpha():\n",
        "            # Determine the case (uppercase or lowercase)\n",
        "            if char.isupper():\n",
        "                base = ord('A')\n",
        "            else:\n",
        "                base = ord('a')\n",
        "            # Apply the shift while handling wraparound\n",
        "            return chr((ord(char) - base + shift) % 26 + base)\n",
        "        else:\n",
        "            return char\n",
        "\n",
        "    # Apply the Caesar Cipher to each character in the message\n",
        "    return ''.join(shift_char(char, shift) for char in message)\n",
        "\n",
        "# Test cases\n",
        "assert(applyCaesarCipher(\"We Attack At Dawn\", 1) == \"Xf Buubdl Bu Ebxo\")\n",
        "assert(applyCaesarCipher(\"zodiac\", -2) == \"xmbgya\")\n"
      ]
    },
    {
      "cell_type": "markdown",
      "metadata": {
        "id": "_7SYqD1i2eIg"
      },
      "source": [
        "## Question number3\n",
        "largestNumber: Write the function largestNumber(text) that takes a string of text and returns the largest int value that occurs within that text, or None if no such value occurs. You may assume that the only numbers in the text are non-negative integers and that numbers are always composed of consecutive digits (without commas, for example). For example:\n",
        "    largestNumber(\"I saw 3 dogs, 17 cats, and 14 cows!\")\n",
        "returns 17 (the int value 17, not the string \"17\"). And\n",
        "    largestNumber(\"One person ate two hot dogs!\")\n",
        "returns None (the value None, not the string \"None\").\n",
        "\n"
      ]
    },
    {
      "cell_type": "code",
      "execution_count": 3,
      "metadata": {
        "colab": {
          "base_uri": "https://localhost:8080/"
        },
        "id": "WGfzARLb2dQg",
        "outputId": "3a0b53ce-9566-45d1-cb81-8514f97ff270"
      },
      "outputs": [
        {
          "name": "stdout",
          "output_type": "stream",
          "text": [
            "17\n",
            "None\n"
          ]
        }
      ],
      "source": [
        "import re\n",
        "\n",
        "def largestNumber(text):\n",
        "    # Find all integers in the text using regular expressions\n",
        "    numbers = re.findall(r'\\d+', text)\n",
        "\n",
        "    # Convert the numbers from strings to integers and return the largest one\n",
        "    if numbers:\n",
        "        return max(map(int, numbers))\n",
        "    else:\n",
        "        return None\n",
        "\n",
        "# Test cases\n",
        "print(largestNumber(\"I saw 3 dogs, 17 cats, and 14 cows!\"))\n",
        "print(largestNumber(\"One person ate two hot dogs!\"))\n"
      ]
    },
    {
      "cell_type": "markdown",
      "metadata": {
        "id": "vXMpMHUi3nve"
      },
      "source": [
        "## Question number 4\n",
        "Write the function topScorer(data) that takes a multi-line string encoding scores as csv data for some kind of competition with players receiving scores, so each line has comma-separated values. The first value on each line is the name of the player (which you can assume has no integers in it), and each value after that is an individual score (which you can assume is a non-negative integer). You should add all the scores for that player, and then return the player with the highest total score. If there is a tie, return all the tied players in a comma-separated string with the names in the same order they appeared in the original data. If nobody wins (there is no data), return None (not the string \"None\"). So, for example:\n",
        "data = '''\\\n",
        "Fred,10,20,30,40\n",
        "Wilma,10,20,30\n",
        "'''\n",
        "assert(topScorer(data) == 'Fred')\n",
        "\n",
        "data = '''\\\n",
        "Fred,10,20,30\n",
        "Wilma,10,20,30,40\n",
        "'''\n",
        "assert(topScorer(data) == 'Wilma')\n",
        "\n",
        "data = '''\\\n",
        "Fred,11,20,30\n",
        "Wilma,10,20,30,1\n",
        "'''\n",
        "assert(topScorer(data) == 'Fred,Wilma')\n",
        "\n",
        "assert(topScorer('') == None)\n",
        "Hint: you may want to use both splitlines() and split(',') here!"
      ]
    },
    {
      "cell_type": "code",
      "execution_count": 4,
      "metadata": {
        "id": "v07U2PGT4oZU"
      },
      "outputs": [],
      "source": [
        "def topScorer(data):\n",
        "    if not data:\n",
        "        return None\n",
        "\n",
        "    # Split the data into lines\n",
        "    lines = data.splitlines()\n",
        "\n",
        "    # Initialize a dictionary to store the total scores for each player\n",
        "    scores = {}\n",
        "\n",
        "    # Iterate through each line to extract player names and scores\n",
        "    for line in lines:\n",
        "        # Split each line by commas\n",
        "        parts = line.split(',')\n",
        "\n",
        "        # Extract the player name\n",
        "        player = parts[0]\n",
        "\n",
        "        # Extract the scores and convert them to integers\n",
        "        player_scores = list(map(int, parts[1:]))\n",
        "\n",
        "        # Calculate the total score for the player\n",
        "        total_score = sum(player_scores)\n",
        "\n",
        "        # Update the scores dictionary with the total score for the player\n",
        "        scores[player] = scores.get(player, 0) + total_score\n",
        "\n",
        "    if not scores:\n",
        "        return None\n",
        "\n",
        "    # Find the highest total score\n",
        "    max_score = max(scores.values())\n",
        "\n",
        "    # Find the players with the highest total score\n",
        "    top_players = [player for player, score in scores.items() if score == max_score]\n",
        "\n",
        "    # If there is only one top player, return their name\n",
        "    if len(top_players) == 1:\n",
        "        return top_players[0]\n",
        "    # If there are multiple top players, return their names as a comma-separated string\n",
        "    else:\n",
        "        return ','.join(top_players)\n",
        "\n",
        "# Test cases\n",
        "data1 = '''\\\n",
        "Fred,10,20,30,40\n",
        "Wilma,10,20,30\n",
        "'''\n",
        "assert(topScorer(data1) == 'Fred')\n",
        "\n",
        "data2 = '''\\\n",
        "Fred,10,20,30\n",
        "Wilma,10,20,30,40\n",
        "'''\n",
        "assert(topScorer(data2) == 'Wilma')\n",
        "\n",
        "data3 = '''\\\n",
        "Fred,11,20,30\n",
        "Wilma,10,20,30,1\n",
        "'''\n",
        "assert(topScorer(data3) == 'Fred,Wilma')\n",
        "\n",
        "assert(topScorer('') == None)\n"
      ]
    },
    {
      "cell_type": "markdown",
      "metadata": {
        "id": "KIb_3Jf24yAA"
      },
      "source": [
        "## PART B\n",
        "## Question number 1\n",
        "Without using the s.replace() method, write the function collapseWhitespace(s), that takes a string s and returns an equivalent string except that each occurrence of whitespace in the string is replaced by a single space. So, for example, collapseWhitespace(\"a\\t\\t\\tb\\n\\nc\") replaces the three tabs with a single space, and the two newlines with another single space , returning \"a b c\". Here are a few more test cases for you:\n",
        "    assert(collapseWhitespace(\"a\\nb\") == \"a b\")\n",
        "    assert(collapseWhitespace(\"a\\n   \\t    b\") == \"a b\")\n",
        "    assert(collapseWhitespace(\"a\\n   \\t    b  \\n\\n  \\t\\t\\t c   \") == \"a b c \")\n",
        "Once again, do not use s.replace() in your solution."
      ]
    },
    {
      "cell_type": "code",
      "execution_count": 5,
      "metadata": {
        "colab": {
          "base_uri": "https://localhost:8080/"
        },
        "id": "zX5apDeC5wyl",
        "outputId": "7c09883c-a597-4de9-bfca-cca19372610d"
      },
      "outputs": [
        {
          "name": "stdout",
          "output_type": "stream",
          "text": [
            "All test cases passed successfully!\n"
          ]
        }
      ],
      "source": [
        "def collapseWhitespace(s):\n",
        "    # Initialize an empty string to store the result\n",
        "    result = ''\n",
        "\n",
        "    # Initialize a flag to track if the previous character was whitespace\n",
        "    prev_whitespace = False\n",
        "\n",
        "    # Iterate through each character in the input string\n",
        "    for char in s:\n",
        "        # Check if the character is whitespace\n",
        "        if char.isspace():\n",
        "            # If the previous character was not whitespace, add a space to the result string\n",
        "            if not prev_whitespace:\n",
        "                result += ' '\n",
        "            # Update the flag to indicate that the current character is whitespace\n",
        "            prev_whitespace = True\n",
        "        else:\n",
        "            # Add the non-whitespace character to the result string\n",
        "            result += char\n",
        "            # Update the flag to indicate that the current character is not whitespace\n",
        "            prev_whitespace = False\n",
        "\n",
        "    return result.strip()  # Remove leading and trailing spaces\n",
        "\n",
        "# Test cases\n",
        "assert(collapseWhitespace(\"a\\nb\") == \"a b\")\n",
        "assert(collapseWhitespace(\"a\\n   \\t    b\") == \"a b\")\n",
        "assert(collapseWhitespace(\"a\\n   \\t    b  \\n\\n  \\t\\t\\t c   \") == \"a b c\")\n",
        "\n",
        "print(\"All test cases passed successfully!\")\n"
      ]
    },
    {
      "cell_type": "code",
      "execution_count": null,
      "metadata": {},
      "outputs": [],
      "source": []
    }
  ],
  "metadata": {
    "colab": {
      "provenance": []
    },
    "kernelspec": {
      "display_name": "Python 3",
      "name": "python3"
    },
    "language_info": {
      "name": "python"
    }
  },
  "nbformat": 4,
  "nbformat_minor": 0
}
