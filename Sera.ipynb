{
 "cells": [
  {
   "cell_type": "code",
   "execution_count": 1,
   "id": "42b44811",
   "metadata": {},
   "outputs": [
    {
     "name": "stdout",
     "output_type": "stream",
     "text": [
      "hello\n"
     ]
    }
   ],
   "source": [
    "print(\"hello\")\n"
   ]
  },
  {
   "cell_type": "markdown",
   "id": "9c81e805",
   "metadata": {},
   "source": [
    "self study on python\n"
   ]
  },
  {
   "cell_type": "markdown",
   "id": "324f82c5",
   "metadata": {},
   "source": [
    "### person study\n",
    "## is nice \n",
    "# well focused\n"
   ]
  },
  {
   "cell_type": "markdown",
   "id": "4b5936aa",
   "metadata": {},
   "source": [
    "# 1. list "
   ]
  },
  {
   "cell_type": "code",
   "execution_count": 3,
   "id": "2f9de22d",
   "metadata": {},
   "outputs": [
    {
     "name": "stdout",
     "output_type": "stream",
     "text": [
      "<class 'list'> 0 []\n",
      "<class 'list'> 0 []\n",
      "True\n"
     ]
    }
   ],
   "source": [
    "a=[]\n",
    "b=list()\n",
    "print(type(a),len(a),a)\n",
    "print(type(b),len(b),b)\n",
    "print(a==b)\n"
   ]
  },
  {
   "cell_type": "code",
   "execution_count": 5,
   "id": "17cff817",
   "metadata": {},
   "outputs": [
    {
     "name": "stdout",
     "output_type": "stream",
     "text": [
      "<class 'list'> 1 ['hello']\n",
      "<class 'list'> 1 [43]\n",
      "False\n"
     ]
    }
   ],
   "source": [
    "a=[\"hello\"]\n",
    "b=[43]\n",
    "print(type(a),len(a),a)\n",
    "print(type(b),len(b),b)\n",
    "print(a==b)"
   ]
  },
  {
   "cell_type": "markdown",
   "id": "9f00bcd8",
   "metadata": {},
   "source": [
    "# A list with"
   ]
  },
  {
   "cell_type": "code",
   "execution_count": 14,
   "id": "8b53c828",
   "metadata": {},
   "outputs": [
    {
     "name": "stdout",
     "output_type": "stream",
     "text": [
      "<class 'list'> 5 [0, 1, 2, 3, 4]\n",
      "<class 'list'> 5 [0, 1, 2, 3, 4]\n",
      "<class 'list'> 3 ['mixed values', 34, True]\n",
      "True\n",
      "True\n",
      "False\n"
     ]
    }
   ],
   "source": [
    "a=[0,1,2,3,4]\n",
    "b=list(range(5))\n",
    "c=[\"mixed values\",34,True]\n",
    "print(type(a),len(a),a)\n",
    "print(type(b),len(b),b)\n",
    "print(type(c),len(c),c)\n",
    "print(a==b)\n",
    "print(len(a)==len(b))\n",
    "print(len(a)==len(c))"
   ]
  },
  {
   "cell_type": "markdown",
   "id": "84d69926",
   "metadata": {},
   "source": [
    "# to show that two list are equal in size do the following "
   ]
  },
  {
   "cell_type": "code",
   "execution_count": 12,
   "id": "f0128d02",
   "metadata": {},
   "outputs": [
    {
     "name": "stdout",
     "output_type": "stream",
     "text": [
      "List A and List B are equal in size: True\n",
      "List A and List C are equal in size: False\n"
     ]
    }
   ],
   "source": [
    "def are_lists_equal_in_size(list1, list2):\n",
    "    return len(list1) == len(list2)\n",
    "\n",
    "# Example lists\n",
    "list_a = [1, 2, 3, 4, 5]\n",
    "list_b = [6, 7, 8, 9, 10]\n",
    "list_c = [1, 2, 3]\n",
    "\n",
    "# Check if lists are equal in size\n",
    "print(\"List A and List B are equal in size:\", are_lists_equal_in_size(list_a, list_b))\n",
    "print(\"List A and List C are equal in size:\", are_lists_equal_in_size(list_a, list_c))\n"
   ]
  },
  {
   "cell_type": "markdown",
   "id": "8b831965",
   "metadata": {},
   "source": [
    "# show that the list are equal without using function"
   ]
  },
  {
   "cell_type": "code",
   "execution_count": 11,
   "id": "7e75c543",
   "metadata": {},
   "outputs": [
    {
     "name": "stdout",
     "output_type": "stream",
     "text": [
      "List A and List B are equal in size.\n",
      "List A and List C are not equal in size.\n"
     ]
    }
   ],
   "source": [
    "# Example lists\n",
    "list_a = [1, 2, 3, 4, 5]\n",
    "list_b = [6, 7, 8, 9, 10]\n",
    "list_c = [1, 2, 3]\n",
    "\n",
    "# Compare lengths of lists\n",
    "if len(list_a) == len(list_b):\n",
    "    print(\"List A and List B are equal in size.\")\n",
    "else:\n",
    "    print(\"List A and List B are not equal in size.\")\n",
    "\n",
    "if len(list_a) == len(list_c):\n",
    "    print(\"List A and List C are equal in size.\")\n",
    "else:\n",
    "    print(\"List A and List C are not equal in size.\")\n"
   ]
  },
  {
   "cell_type": "markdown",
   "id": "4bef5289",
   "metadata": {},
   "source": [
    "# operation in a list"
   ]
  },
  {
   "cell_type": "code",
   "execution_count": 26,
   "id": "0e13dca7",
   "metadata": {},
   "outputs": [
    {
     "name": "stdout",
     "output_type": "stream",
     "text": [
      "a = [2, 3, 5, 2]\n",
      "len = 4\n",
      "min = 2\n",
      "max = 5\n",
      "sum = 12\n",
      "average is: 3.0\n",
      "product is: 60\n"
     ]
    }
   ],
   "source": [
    "a = [2, 3, 5, 2]\n",
    "product=1  # you have to initialize the value of product in order to avoid wrong result\n",
    "for num in a:\n",
    "    product *= num\n",
    "\n",
    "print(\"a =\", a)\n",
    "print(\"len =\", len(a))\n",
    "print(\"min =\", min(a))\n",
    "print(\"max =\", max(a))\n",
    "print(\"sum =\", sum(a))\n",
    "print(\"average is:\", (sum(a) / len(a)))\n",
    "print(\"product is:\", product)\n",
    "\n"
   ]
  },
  {
   "cell_type": "markdown",
   "id": "1f9da023",
   "metadata": {},
   "source": [
    "# getting a product and average of a list using function\n"
   ]
  },
  {
   "cell_type": "code",
   "execution_count": 27,
   "id": "0e3e8ce7",
   "metadata": {},
   "outputs": [
    {
     "name": "stdout",
     "output_type": "stream",
     "text": [
      "Product of elements in the list: 120\n",
      "Average of elements in the list: 3.0\n"
     ]
    }
   ],
   "source": [
    "def get_product_of_list(lst):\n",
    "    product = 1\n",
    "    for num in lst:\n",
    "        product *= num\n",
    "    return product\n",
    "\n",
    "def get_average_of_list(lst):\n",
    "    if len(lst) == 0:\n",
    "        return None\n",
    "    return sum(lst) / len(lst)\n",
    "\n",
    "# Example list\n",
    "my_list = [1, 2, 3, 4, 5]\n",
    "\n",
    "# Calculate product of elements in the list\n",
    "list_product = get_product_of_list(my_list)\n",
    "print(\"Product of elements in the list:\", list_product)\n",
    "\n",
    "# Calculate average of elements in the list\n",
    "list_average = get_average_of_list(my_list)\n",
    "print(\"Average of elements in the list:\", list_average)\n"
   ]
  },
  {
   "cell_type": "markdown",
   "id": "184895f7",
   "metadata": {},
   "source": [
    "# getting a product and average of a list using while loop"
   ]
  },
  {
   "cell_type": "code",
   "execution_count": 28,
   "id": "4e873f96",
   "metadata": {},
   "outputs": [
    {
     "name": "stdout",
     "output_type": "stream",
     "text": [
      "Product of elements in the list: 120\n",
      "Average of elements in the list: 3.0\n"
     ]
    }
   ],
   "source": [
    "# Example list\n",
    "a = [1, 2, 3, 4, 5]\n",
    "\n",
    "# Calculate product of elements in the list using while loop\n",
    "product = 1\n",
    "index = 0\n",
    "while index < len(a):\n",
    "    product *= a[index]\n",
    "    index += 1\n",
    "print(\"Product of elements in the list:\", product)\n",
    "\n",
    "# Calculate average of elements in the list using while loop\n",
    "if len(a) == 0:\n",
    "    print(\"Average of elements in the list: None\")\n",
    "else:\n",
    "    total = 0\n",
    "    index = 0\n",
    "    while index < len(a):\n",
    "        total += a[index]\n",
    "        index += 1\n",
    "    average = total / len(a)\n",
    "    print(\"Average of elements in the list:\", average)\n"
   ]
  },
  {
   "cell_type": "markdown",
   "id": "dd99341f",
   "metadata": {},
   "source": [
    "# accessing element from the list"
   ]
  },
  {
   "cell_type": "markdown",
   "id": "9a5604c8",
   "metadata": {},
   "source": [
    "# 1.accessing none negative index"
   ]
  },
  {
   "cell_type": "code",
   "execution_count": 41,
   "id": "dcd2ee31",
   "metadata": {},
   "outputs": [
    {
     "name": "stdout",
     "output_type": "stream",
     "text": [
      "a        = [2, 3, 5, 7, 11, 13, 4]\n",
      "a[0]     = 2\n",
      "a[2]     = 5\n",
      "a[5]     = 13\n"
     ]
    }
   ],
   "source": [
    "a = [2, 3, 5, 7, 11, 13,4]\n",
    "print(\"a        =\", a)\n",
    "\n",
    "# Access non-negative indexes\n",
    "print(\"a[0]     =\", a[0])\n",
    "print(\"a[2]     =\", a[2])\n",
    "print(\"a[5]     =\",a[5])\n",
    "\n"
   ]
  },
  {
   "cell_type": "markdown",
   "id": "388c2651",
   "metadata": {},
   "source": [
    "# 2.accessing negative index\n"
   ]
  },
  {
   "cell_type": "code",
   "execution_count": 30,
   "id": "ebbd67cc",
   "metadata": {},
   "outputs": [
    {
     "name": "stdout",
     "output_type": "stream",
     "text": [
      "a[-1]    = 13\n",
      "a[-3]    = 7\n"
     ]
    }
   ],
   "source": [
    "print(\"a[-1]    =\", a[-1])\n",
    "print(\"a[-3]    =\", a[-3])\n"
   ]
  },
  {
   "cell_type": "markdown",
   "id": "3f4678aa",
   "metadata": {},
   "source": [
    "# 3.accessing using slices format"
   ]
  },
  {
   "cell_type": "code",
   "execution_count": 59,
   "id": "42284b91",
   "metadata": {},
   "outputs": [
    {
     "name": "stdout",
     "output_type": "stream",
     "text": [
      "a[0:2]   = [2, 4]\n",
      "a[1:4]   = [4, 9, 7]\n",
      "a[1:6] = [4, 9, 7, 0, 6]\n"
     ]
    }
   ],
   "source": [
    "print(\"a[0:2]   =\", a[0:2])\n",
    "print(\"a[1:4]   =\", a[1:4])\n",
    "print(\"a[1:6] =\", a[1:6])"
   ]
  },
  {
   "cell_type": "markdown",
   "id": "0cc1165e",
   "metadata": {},
   "source": [
    "# copying a list"
   ]
  },
  {
   "cell_type": "code",
   "execution_count": 56,
   "id": "3f3772fe",
   "metadata": {},
   "outputs": [
    {
     "name": "stdout",
     "output_type": "stream",
     "text": [
      "b= [2, 4, 9, 7, 0, 6]\n",
      "c= [2, 4, 77, 23, 0, 6]\n"
     ]
    }
   ],
   "source": [
    "import copy\n",
    "a=[2,4,9,7,0,6]\n",
    "b=a\n",
    "print(\"b=\",b)\n",
    "c=copy.copy(b)\n",
    "# modifying  list of c\n",
    "c[2]=77\n",
    "c[3]=23\n",
    "print(\"c=\",c)"
   ]
  },
  {
   "cell_type": "markdown",
   "id": "c3e65d8e",
   "metadata": {},
   "source": [
    "# destructive and non destructive function"
   ]
  },
  {
   "cell_type": "code",
   "execution_count": 64,
   "id": "08877f49",
   "metadata": {},
   "outputs": [
    {
     "name": "stdout",
     "output_type": "stream",
     "text": [
      "list a before filling it is [4, 9, 8, 7, 3, 1]\n",
      "lst a after filling it is [43, 43, 43, 43, 43, 43]\n"
     ]
    }
   ],
   "source": [
    "#1. desrtuctive function\n",
    "def fill(a,value):\n",
    "  for i in range(len(a)):\n",
    "      a[i]=value\n",
    "a=[4,9,8,7,3,1]\n",
    "print(\"list a before filling it is\",a)\n",
    "fill(a,43)\n",
    "print(\"lst a after filling it is\",a)\n",
    " "
   ]
  },
  {
   "cell_type": "code",
   "execution_count": 89,
   "id": "80b93f1c",
   "metadata": {},
   "outputs": [
    {
     "name": "stdout",
     "output_type": "stream",
     "text": [
      "list a is [4, 9, 7, 4, 3, 20]\n",
      "[]\n",
      "[3, 5, 'banana', 'juice', 34]\n"
     ]
    }
   ],
   "source": [
    "#2.none destuctive function\n",
    "# first let's do some operations on the list\n",
    "import copy\n",
    "a=[4,9,6,7,4,3]\n",
    "a.remove(6)\n",
    "a.append(20)\n",
    "print(\"list a is\",a)\n",
    "a.clear()\n",
    "print(a)\n",
    "a=[3,5,8,\"ifi\",\"mango\",34]\n",
    "new_elements=[\"banana\",\"juice\"]\n",
    "a[2:5]=new_elements\n",
    "print(a)"
   ]
  },
  {
   "cell_type": "code",
   "execution_count": 108,
   "id": "d94ec696",
   "metadata": {},
   "outputs": [
    {
     "name": "stdout",
     "output_type": "stream",
     "text": [
      "value of a is  [3, 9, 5, 6, 4, 0, 2, 1]\n",
      "after removing the value=2 a is  [3, 9, 5, 6, 4, 0, 1]\n",
      "[1, 2, 3, 4, 5, 6, 'apple']\n"
     ]
    }
   ],
   "source": [
    "a=[3,9,5,6,4,0,2,1]\n",
    "print (\"value of a is \",a)\n",
    "\n",
    "def destructiveRemoveAll(a,value):\n",
    "     while (value in a):\n",
    "        a.remove(value)\n",
    "destructiveRemoveAll(a,2)\n",
    "print (\"after removing the value=2 a is \",a)\n",
    "\n",
    "\n",
    "def nonDestructiveRemoveAll(a,value):\n",
    "   \n",
    "    result=[]\n",
    "    for element in a:\n",
    "        if(element !=value):\n",
    "            a.append(element)\n",
    "            return result\n",
    "a=[1,2,3,4,5,6]\n",
    "a.append(\"apple\")\n",
    "print(a)\n",
    "        \n",
    "        "
   ]
  },
  {
   "cell_type": "markdown",
   "id": "a6865668",
   "metadata": {},
   "source": [
    "# other operation done on the list\n"
   ]
  },
  {
   "cell_type": "code",
   "execution_count": 113,
   "id": "77c4aa4c",
   "metadata": {},
   "outputs": [
    {
     "name": "stdout",
     "output_type": "stream",
     "text": [
      "a = [2, 3, 5, 2]\n",
      "a.index(5) = 2\n"
     ]
    }
   ],
   "source": [
    "#1. check if an element is in an index\n",
    "a = [ 2, 3, 5, 2 ]\n",
    "print(\"a =\", a)\n",
    "if (5 in a):\n",
    "    print(\"a.index(5) =\", a.index(5))\n",
    "else:\n",
    "    print(\"5 not in\", a)\n",
    "    \n"
   ]
  },
  {
   "cell_type": "markdown",
   "id": "fd6e52ba",
   "metadata": {},
   "source": [
    "# Add a list of items with list += list2 or list.extend(list2)"
   ]
  },
  {
   "cell_type": "code",
   "execution_count": 114,
   "id": "1dad4901",
   "metadata": {},
   "outputs": [
    {
     "name": "stdout",
     "output_type": "stream",
     "text": [
      "[2, 3, 11, 13]\n",
      "[2, 3, 11, 13, 17, 19]\n"
     ]
    }
   ],
   "source": [
    "a = [ 2, 3 ]\n",
    "a += [ 11, 13 ]\n",
    "print(a)\n",
    "a.extend([ 17, 19 ])\n",
    "print(a)"
   ]
  },
  {
   "cell_type": "code",
   "execution_count": 123,
   "id": "2fe7f3f4",
   "metadata": {},
   "outputs": [
    {
     "name": "stdout",
     "output_type": "stream",
     "text": [
      "[3, 5, 6, 0, 5, 6, 9, 8]\n",
      "[3, 5, 6, 0, 5, 6, 9, 8, 'a', 'c', 'r', 9]\n"
     ]
    }
   ],
   "source": [
    "a=[3,5,6]\n",
    "a+=[0,5,6,9,8]\n",
    "print(a)\n",
    "a.extend(['a','c','r',9])\n",
    "print(a)"
   ]
  },
  {
   "cell_type": "markdown",
   "id": "9671222e",
   "metadata": {},
   "source": [
    "# insert item at any index\n"
   ]
  },
  {
   "cell_type": "code",
   "execution_count": 124,
   "id": "f1fcf8ca",
   "metadata": {},
   "outputs": [
    {
     "name": "stdout",
     "output_type": "stream",
     "text": [
      "[2, 3, 42, 5, 7, 11]\n"
     ]
    }
   ],
   "source": [
    "a = [ 2, 3, 5, 7, 11 ]\n",
    "a.insert(2, 42)  # at index 2, insert 42\n",
    "print(a)"
   ]
  },
  {
   "cell_type": "markdown",
   "id": "6a3a97d8",
   "metadata": {},
   "source": [
    "# add item with list+list"
   ]
  },
  {
   "cell_type": "code",
   "execution_count": 125,
   "id": "c2756976",
   "metadata": {},
   "outputs": [
    {
     "name": "stdout",
     "output_type": "stream",
     "text": [
      "[2, 3]\n",
      "[2, 3, 13, 17]\n"
     ]
    }
   ],
   "source": [
    "a = [ 2, 3 ]\n",
    "b = a + [ 13, 17 ]\n",
    "print(a)\n",
    "print(b)"
   ]
  },
  {
   "cell_type": "markdown",
   "id": "2127e420",
   "metadata": {},
   "source": [
    "## homework week2\n",
    "Free Response 1: isSmallFair(n) \n",
    "We will say that a value n is \"fair\" if it is an integer and it has the same number of even digits as odd digits\n",
    "(ignoring leading 0's). A \"small fair\" number is a fair number with exactly 4 digits.\n",
    "For example, 1083, 1081, and -1092 are each small fair numbers because each have two odds and two evens.\n",
    "With this in mind, and without using strings or loops, write the function isSmallFair(n) that takes a value n, that\n",
    "may or may not be an integer, and returns True if n is a small fair number, and False otherwise. Do not crash\n",
    "if n is not an integer! Again, do not use strings or loops here.\n",
    "def testIsSmallFair():\n",
    "assert(isSmallFair(1001) == True)\n",
    "assert(isSmallFair(-1083) == True)\n",
    "assert(isSmallFair(1112) == False)\n",
    "assert(isSmallFair(83) == False)\n",
    "assert(isSmallFair('axolotl') == False)\n"
   ]
  },
  {
   "cell_type": "code",
   "execution_count": 1,
   "id": "3e121c98",
   "metadata": {},
   "outputs": [],
   "source": [
    "def isSmallFair(n):\n",
    "    if not isinstance(n, int):  # Check if n is an integer\n",
    "        return False\n",
    "    \n",
    "    n = abs(n)  # Convert negative numbers to positive\n",
    "    \n",
    "    # Initialize counts of even and odd digits\n",
    "    even_count = 0\n",
    "    odd_count = 0\n",
    "    \n",
    "    while n > 0:  # Iterate through the digits of n\n",
    "        digit = n % 10  # Extract the last digit\n",
    "        if digit % 2 == 0:  # Check if the digit is even\n",
    "            even_count += 1\n",
    "        else:\n",
    "            odd_count += 1\n",
    "        n //= 10  # Move to the next digit\n",
    "    \n",
    "    # Check if the counts of even and odd digits are equal to 2 (for a 4-digit number)\n",
    "    return even_count == odd_count == 2\n",
    "\n",
    "# Test cases\n",
    "def testIsSmallFair():\n",
    "    assert(isSmallFair(1001) == True)\n",
    "    assert(isSmallFair(-1083) == True)\n",
    "    assert(isSmallFair(1112) == False)\n",
    "    assert(isSmallFair(83) == False)\n",
    "    assert(isSmallFair('axolotl') == False)\n",
    "\n",
    "# Run the test cases\n",
    "testIsSmallFair()\n"
   ]
  },
  {
   "cell_type": "markdown",
   "id": "e1469c34",
   "metadata": {},
   "source": [
    "## question 2\n",
    "Free Response 1: isSmallWobble(n) [60 pts]\n",
    "We will say that a value n is a \"wobble\" if it is an integer with more odd digits than even digits, but at least one\n",
    "of each. (Ignore leading 0's). A \"small wobble\" number is a wobble number with exactly 4 digits (thus it must\n",
    "have 1 even and 3 odd digits).\n",
    "For example, 2133, 1091, and -5792 are small wobble numbers because they have 1 even and 3 odd digits.\n",
    "With this in mind, and without using strings or loops, write the function isSmallWobble(n) that takes a value n,\n",
    "that may or may not be an integer, and returns True if n is a small wobble number, and False otherwise. Do\n",
    "not crash if n is not an integer! Again, do not use strings or loops here.\n",
    "def testIsSmallWobble():\n",
    "assert(isSmallWobble(1121) == True)\n",
    "assert(isSmallWobble(-1091) == True)\n",
    "assert(isSmallWobble(1681) == False)\n",
    "assert(isSmallWobble(83) == False)\n",
    "assert(isSmallWobble('axolotl') == False)"
   ]
  },
  {
   "cell_type": "code",
   "execution_count": 2,
   "id": "bf9903a4",
   "metadata": {},
   "outputs": [],
   "source": [
    "def isSmallWobble(n):\n",
    "    if not isinstance(n, int):\n",
    "        return False\n",
    "    \n",
    "    n = abs(n)\n",
    "    \n",
    "    # Counting the number of odd and even digits\n",
    "    odd_count = 0\n",
    "    even_count = 0\n",
    "    \n",
    "    # Extracting digits without using strings or loops\n",
    "    while n > 0:\n",
    "        digit = n % 10\n",
    "        if digit % 2 == 0:\n",
    "            even_count += 1\n",
    "        else:\n",
    "            odd_count += 1\n",
    "        n //= 10\n",
    "    \n",
    "    # Checking if it's a small wobble number\n",
    "    return odd_count == 3 and even_count == 1 and odd_count + even_count == 4\n",
    "\n",
    "# Test cases\n",
    "def testIsSmallWobble():\n",
    "    assert(isSmallWobble(1121) == True)\n",
    "    assert(isSmallWobble(-1091) == True)\n",
    "    assert(isSmallWobble(1681) == False)\n",
    "    assert(isSmallWobble(83) == False)\n",
    "    assert(isSmallWobble('axolotl') == False)\n",
    "\n",
    "# Running the test cases\n",
    "testIsSmallWobble()\n"
   ]
  },
  {
   "cell_type": "code",
   "execution_count": null,
   "id": "e9c81412",
   "metadata": {},
   "outputs": [],
   "source": []
  }
 ],
 "metadata": {
  "kernelspec": {
   "display_name": "Python 3 (ipykernel)",
   "language": "python",
   "name": "python3"
  },
  "language_info": {
   "codemirror_mode": {
    "name": "ipython",
    "version": 3
   },
   "file_extension": ".py",
   "mimetype": "text/x-python",
   "name": "python",
   "nbconvert_exporter": "python",
   "pygments_lexer": "ipython3",
   "version": "3.11.7"
  }
 },
 "nbformat": 4,
 "nbformat_minor": 5
}
